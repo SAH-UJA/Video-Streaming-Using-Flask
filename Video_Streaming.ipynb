{
  "nbformat": 4,
  "nbformat_minor": 0,
  "metadata": {
    "colab": {
      "name": "Video Streaming.ipynb",
      "provenance": [],
      "collapsed_sections": [],
      "authorship_tag": "ABX9TyPV0MYvn9p76Uf9fgnrD1Bc",
      "include_colab_link": true
    },
    "kernelspec": {
      "name": "python3",
      "display_name": "Python 3"
    }
  },
  "cells": [
    {
      "cell_type": "markdown",
      "metadata": {
        "id": "view-in-github",
        "colab_type": "text"
      },
      "source": [
        "<a href=\"https://colab.research.google.com/github/SAH-UJA/Video-Streaming-Using-Flask/blob/main/Video_Streaming.ipynb\" target=\"_parent\"><img src=\"https://colab.research.google.com/assets/colab-badge.svg\" alt=\"Open In Colab\"/></a>"
      ]
    },
    {
      "cell_type": "code",
      "metadata": {
        "id": "9aiEvkqjheiR",
        "colab": {
          "base_uri": "https://localhost:8080/",
          "height": 798
        },
        "outputId": "e4e689bb-2707-4236-80a6-879e7bcc697f"
      },
      "source": [
        "!apt install libasound2-dev portaudio19-dev libportaudio2 libportaudiocpp0 ffmpeg\n",
        "!pip install pyaudio"
      ],
      "execution_count": null,
      "outputs": [
        {
          "output_type": "stream",
          "text": [
            "Reading package lists... Done\n",
            "Building dependency tree       \n",
            "Reading state information... Done\n",
            "libasound2-dev is already the newest version (1.1.3-5ubuntu0.5).\n",
            "ffmpeg is already the newest version (7:3.4.8-0ubuntu0.2).\n",
            "The following package was automatically installed and is no longer required:\n",
            "  libnvidia-common-440\n",
            "Use 'apt autoremove' to remove it.\n",
            "Suggested packages:\n",
            "  portaudio19-doc\n",
            "The following NEW packages will be installed:\n",
            "  libportaudio2 libportaudiocpp0 portaudio19-dev\n",
            "0 upgraded, 3 newly installed, 0 to remove and 35 not upgraded.\n",
            "Need to get 184 kB of archives.\n",
            "After this operation, 891 kB of additional disk space will be used.\n",
            "Get:1 http://archive.ubuntu.com/ubuntu bionic/universe amd64 libportaudio2 amd64 19.6.0-1 [64.6 kB]\n",
            "Get:2 http://archive.ubuntu.com/ubuntu bionic/universe amd64 libportaudiocpp0 amd64 19.6.0-1 [15.1 kB]\n",
            "Get:3 http://archive.ubuntu.com/ubuntu bionic/universe amd64 portaudio19-dev amd64 19.6.0-1 [104 kB]\n",
            "Fetched 184 kB in 1s (258 kB/s)\n",
            "Selecting previously unselected package libportaudio2:amd64.\n",
            "(Reading database ... 144487 files and directories currently installed.)\n",
            "Preparing to unpack .../libportaudio2_19.6.0-1_amd64.deb ...\n",
            "Unpacking libportaudio2:amd64 (19.6.0-1) ...\n",
            "Selecting previously unselected package libportaudiocpp0:amd64.\n",
            "Preparing to unpack .../libportaudiocpp0_19.6.0-1_amd64.deb ...\n",
            "Unpacking libportaudiocpp0:amd64 (19.6.0-1) ...\n",
            "Selecting previously unselected package portaudio19-dev:amd64.\n",
            "Preparing to unpack .../portaudio19-dev_19.6.0-1_amd64.deb ...\n",
            "Unpacking portaudio19-dev:amd64 (19.6.0-1) ...\n",
            "Setting up libportaudio2:amd64 (19.6.0-1) ...\n",
            "Setting up libportaudiocpp0:amd64 (19.6.0-1) ...\n",
            "Setting up portaudio19-dev:amd64 (19.6.0-1) ...\n",
            "Processing triggers for libc-bin (2.27-3ubuntu1) ...\n",
            "/sbin/ldconfig.real: /usr/local/lib/python3.6/dist-packages/ideep4py/lib/libmkldnn.so.0 is not a symbolic link\n",
            "\n",
            "Collecting pyaudio\n",
            "  Using cached https://files.pythonhosted.org/packages/ab/42/b4f04721c5c5bfc196ce156b3c768998ef8c0ae3654ed29ea5020c749a6b/PyAudio-0.2.11.tar.gz\n",
            "Building wheels for collected packages: pyaudio\n",
            "  Building wheel for pyaudio (setup.py) ... \u001b[?25l\u001b[?25hdone\n",
            "  Created wheel for pyaudio: filename=PyAudio-0.2.11-cp36-cp36m-linux_x86_64.whl size=51624 sha256=10a99939d4d4e8eea89b7ea11c9e2b7730eeac8860b41d9b1e9fb3760f0deb7d\n",
            "  Stored in directory: /root/.cache/pip/wheels/f4/a8/a4/292214166c2917890f85b2f72a8e5f13e1ffa527c4200dcede\n",
            "Successfully built pyaudio\n",
            "Installing collected packages: pyaudio\n",
            "Successfully installed pyaudio-0.2.11\n"
          ],
          "name": "stdout"
        }
      ]
    },
    {
      "cell_type": "code",
      "metadata": {
        "id": "9cCjtIf7huYy"
      },
      "source": [
        "import pyaudio"
      ],
      "execution_count": null,
      "outputs": []
    },
    {
      "cell_type": "code",
      "metadata": {
        "id": "bI9SLY1biZZJ",
        "colab": {
          "base_uri": "https://localhost:8080/",
          "height": 303
        },
        "outputId": "425c019e-8a77-42f8-c218-20ade1473421"
      },
      "source": [
        "!pip install flask-ngrok"
      ],
      "execution_count": null,
      "outputs": [
        {
          "output_type": "stream",
          "text": [
            "Collecting flask-ngrok\n",
            "  Downloading https://files.pythonhosted.org/packages/af/6c/f54cb686ad1129e27d125d182f90f52b32f284e6c8df58c1bae54fa1adbc/flask_ngrok-0.0.25-py3-none-any.whl\n",
            "Requirement already satisfied: requests in /usr/local/lib/python3.6/dist-packages (from flask-ngrok) (2.23.0)\n",
            "Requirement already satisfied: Flask>=0.8 in /usr/local/lib/python3.6/dist-packages (from flask-ngrok) (1.1.2)\n",
            "Requirement already satisfied: certifi>=2017.4.17 in /usr/local/lib/python3.6/dist-packages (from requests->flask-ngrok) (2020.6.20)\n",
            "Requirement already satisfied: urllib3!=1.25.0,!=1.25.1,<1.26,>=1.21.1 in /usr/local/lib/python3.6/dist-packages (from requests->flask-ngrok) (1.24.3)\n",
            "Requirement already satisfied: chardet<4,>=3.0.2 in /usr/local/lib/python3.6/dist-packages (from requests->flask-ngrok) (3.0.4)\n",
            "Requirement already satisfied: idna<3,>=2.5 in /usr/local/lib/python3.6/dist-packages (from requests->flask-ngrok) (2.10)\n",
            "Requirement already satisfied: itsdangerous>=0.24 in /usr/local/lib/python3.6/dist-packages (from Flask>=0.8->flask-ngrok) (1.1.0)\n",
            "Requirement already satisfied: Werkzeug>=0.15 in /usr/local/lib/python3.6/dist-packages (from Flask>=0.8->flask-ngrok) (1.0.1)\n",
            "Requirement already satisfied: Jinja2>=2.10.1 in /usr/local/lib/python3.6/dist-packages (from Flask>=0.8->flask-ngrok) (2.11.2)\n",
            "Requirement already satisfied: click>=5.1 in /usr/local/lib/python3.6/dist-packages (from Flask>=0.8->flask-ngrok) (7.1.2)\n",
            "Requirement already satisfied: MarkupSafe>=0.23 in /usr/local/lib/python3.6/dist-packages (from Jinja2>=2.10.1->Flask>=0.8->flask-ngrok) (1.1.1)\n",
            "Installing collected packages: flask-ngrok\n",
            "Successfully installed flask-ngrok-0.0.25\n"
          ],
          "name": "stdout"
        }
      ]
    },
    {
      "cell_type": "code",
      "metadata": {
        "id": "bnLM0gC8mSrC",
        "colab": {
          "base_uri": "https://localhost:8080/",
          "height": 52
        },
        "outputId": "a800e320-eb2e-4f6e-c76f-c905ef76e729"
      },
      "source": [
        "cd sample_data"
      ],
      "execution_count": null,
      "outputs": [
        {
          "output_type": "stream",
          "text": [
            "[Errno 2] No such file or directory: 'sample_data'\n",
            "/content/sample_data\n"
          ],
          "name": "stdout"
        }
      ]
    },
    {
      "cell_type": "code",
      "metadata": {
        "id": "6HRNGqmNuwqf",
        "colab": {
          "base_uri": "https://localhost:8080/",
          "height": 70
        },
        "outputId": "9733895f-a38d-42b0-c81a-a735f50aebf5"
      },
      "source": [
        "from moviepy.editor import *\n",
        "video = VideoFileClip(\"vid.mp4\")\n",
        "audio = video.audio\n",
        "audio.write_audiofile('audi.wav')"
      ],
      "execution_count": null,
      "outputs": [
        {
          "output_type": "stream",
          "text": [
            "[MoviePy] Writing audio in audi.wav\n"
          ],
          "name": "stdout"
        },
        {
          "output_type": "stream",
          "text": [
            "100%|██████████| 126/126 [00:00<00:00, 1971.81it/s]"
          ],
          "name": "stderr"
        },
        {
          "output_type": "stream",
          "text": [
            "[MoviePy] Done.\n"
          ],
          "name": "stdout"
        },
        {
          "output_type": "stream",
          "text": [
            "\n"
          ],
          "name": "stderr"
        }
      ]
    },
    {
      "cell_type": "code",
      "metadata": {
        "id": "StRQIM2DjQEJ",
        "colab": {
          "base_uri": "https://localhost:8080/",
          "height": 1000
        },
        "outputId": "d6b0f2fd-02f1-49e5-ef92-94b6e62e0c2a"
      },
      "source": [
        "from flask import Flask, render_template, Response\n",
        "from flask_ngrok import run_with_ngrok\n",
        "import pyaudio\n",
        "import cv2\n",
        "\n",
        "FORMAT = pyaudio.paInt16\n",
        "CHANNELS = 1\n",
        "RATE = 44100\n",
        "CHUNK = 1024\n",
        "\n",
        "audio = pyaudio.PyAudio()\n",
        "\n",
        "\n",
        "app = Flask(__name__)\n",
        "run_with_ngrok(app)\n",
        "\n",
        "@app.route('/')\n",
        "def index():\n",
        "    \"\"\"Video streaming home page.\"\"\"\n",
        "    return render_template('index.html')\n",
        "\n",
        "\n",
        "\n",
        "\n",
        "@app.route(\"/audio_feed\")\n",
        "def audio_feed():\n",
        "    \"\"\"Audio streaming route. Put this in the src attribute of an audio tag.\"\"\"\n",
        "    return Response(generateAudio(),\n",
        "                    mimetype=\"audio/x-wav\")\n",
        "\n",
        "@app.route(\"/vaud_feed\")\n",
        "def vaud_feed():\n",
        "  return Response(generateVaudio(), mimetype='video/mp4')\n",
        "\n",
        "# Stream routing\n",
        "@app.route('/video_feed')\n",
        "def video_feed():\n",
        "    \"\"\"Video streaming route. Put this in the src attribute of an img tag.\"\"\"\n",
        "    return Response(generateVideo(),\n",
        "                    mimetype='multipart/x-mixed-replace; boundary=frame')\n",
        "# Stream generating\n",
        "def generateVideo():\n",
        "    \"\"\"Video streaming generator function.\"\"\"\n",
        "    cam = cv2.VideoCapture('vid.mp4')\n",
        "    while True:\n",
        "        ret,frame = cam.read()\n",
        "        frame = cv2.rotate(frame, cv2.ROTATE_90_CLOCKWISE)\n",
        "        frame = cv2.resize(frame, (100,100), interpolation = cv2.INTER_AREA)\n",
        "        gray = cv2.imencode('.jpg',frame)[1].tobytes()\n",
        "        #gray = io.BytesIO(gray).getvalue()\n",
        "        yield (b'--frame\\r\\n'+b'Content-Type: image/jpeg\\r\\n\\r\\n'+gray+b'\\r\\n')\n",
        "\n",
        "\n",
        "def generateAudio():\n",
        "\n",
        "    with open(\"audi.wav\", \"rb\") as fwav:\n",
        "      data = fwav.read(1024)\n",
        "      while data:\n",
        "        yield data\n",
        "        data = fwav.read(1024)\n",
        "\n",
        "def generateVaudio():\n",
        "\n",
        "    with open(\"vid.mp4\", \"rb\") as fwav:\n",
        "      data = fwav.read(1024)\n",
        "      while data:\n",
        "        yield data\n",
        "        data = fwav.read(1024)\n",
        "\n",
        "\n",
        "def genHeader(sampleRate, bitsPerSample, channels, samples):\n",
        "    datasize = samples * channels * bitsPerSample // 8\n",
        "    o = bytes(\"RIFF\",'ascii')                                               # (4byte) Marks file as RIFF\n",
        "    o += (datasize + 36).to_bytes(4,'little')                               # (4byte) File size in bytes excluding this and RIFF marker\n",
        "    o += bytes(\"WAVE\",'ascii')                                              # (4byte) File type\n",
        "    o += bytes(\"fmt \",'ascii')                                              # (4byte) Format Chunk Marker\n",
        "    o += (16).to_bytes(4,'little')                                          # (4byte) Length of above format data\n",
        "    o += (1).to_bytes(2,'little')                                           # (2byte) Format type (1 - PCM)\n",
        "    o += (channels).to_bytes(2,'little')                                    # (2byte)\n",
        "    o += (sampleRate).to_bytes(4,'little')                                  # (4byte)\n",
        "    o += (sampleRate * channels * bitsPerSample // 8).to_bytes(4,'little')  # (4byte)\n",
        "    o += (channels * bitsPerSample // 8).to_bytes(2,'little')               # (2byte)\n",
        "    o += (bitsPerSample).to_bytes(2,'little')                               # (2byte)\n",
        "    o += bytes(\"data\",'ascii')                                              # (4byte) Data Chunk Marker\n",
        "    o += (datasize).to_bytes(4,'little')                                    # (4byte) Data size in bytes\n",
        "    return o\n",
        "app.run()"
      ],
      "execution_count": null,
      "outputs": [
        {
          "output_type": "stream",
          "text": [
            " * Serving Flask app \"__main__\" (lazy loading)\n",
            " * Environment: production\n",
            "\u001b[31m   WARNING: This is a development server. Do not use it in a production deployment.\u001b[0m\n",
            "\u001b[2m   Use a production WSGI server instead.\u001b[0m\n",
            " * Debug mode: off\n"
          ],
          "name": "stdout"
        },
        {
          "output_type": "stream",
          "text": [
            " * Running on http://127.0.0.1:5000/ (Press CTRL+C to quit)\n"
          ],
          "name": "stderr"
        },
        {
          "output_type": "stream",
          "text": [
            " * Running on http://3fc6c7a49d07.ngrok.io\n",
            " * Traffic stats available on http://127.0.0.1:4040\n"
          ],
          "name": "stdout"
        },
        {
          "output_type": "stream",
          "text": [
            "127.0.0.1 - - [13/Aug/2020 13:26:44] \"\u001b[37mGET / HTTP/1.1\u001b[0m\" 200 -\n",
            "127.0.0.1 - - [13/Aug/2020 13:26:45] \"\u001b[37mGET /video_feed HTTP/1.1\u001b[0m\" 200 -\n",
            "127.0.0.1 - - [13/Aug/2020 13:26:46] \"\u001b[37mGET /audio_feed HTTP/1.1\u001b[0m\" 200 -\n",
            "127.0.0.1 - - [13/Aug/2020 13:26:46] \"\u001b[37mGET /vaud_feed HTTP/1.1\u001b[0m\" 200 -\n",
            "Error on request:\n",
            "Traceback (most recent call last):\n",
            "  File \"/usr/local/lib/python3.6/dist-packages/werkzeug/serving.py\", line 323, in run_wsgi\n",
            "    execute(self.server.app)\n",
            "  File \"/usr/local/lib/python3.6/dist-packages/werkzeug/serving.py\", line 314, in execute\n",
            "    for data in application_iter:\n",
            "  File \"/usr/local/lib/python3.6/dist-packages/werkzeug/wsgi.py\", line 506, in __next__\n",
            "    return self._next()\n",
            "  File \"/usr/local/lib/python3.6/dist-packages/werkzeug/wrappers/base_response.py\", line 45, in _iter_encoded\n",
            "    for item in iterable:\n",
            "  File \"<ipython-input-59-cfe47751fb02>\", line 48, in generateVideo\n",
            "    \n",
            "cv2.error: OpenCV(4.1.2) /io/opencv/modules/imgproc/src/resize.cpp:3720: error: (-215:Assertion failed) !ssize.empty() in function 'resize'\n",
            "127.0.0.1 - - [13/Aug/2020 13:27:02] \"\u001b[33mGET /favicon.ico HTTP/1.1\u001b[0m\" 404 -\n",
            "127.0.0.1 - - [13/Aug/2020 13:30:02] \"\u001b[37mGET / HTTP/1.1\u001b[0m\" 200 -\n",
            "127.0.0.1 - - [13/Aug/2020 13:30:03] \"\u001b[37mGET /video_feed HTTP/1.1\u001b[0m\" 200 -\n",
            "127.0.0.1 - - [13/Aug/2020 13:30:03] \"\u001b[37mGET /audio_feed HTTP/1.1\u001b[0m\" 200 -\n",
            "127.0.0.1 - - [13/Aug/2020 13:30:03] \"\u001b[37mGET /vaud_feed HTTP/1.1\u001b[0m\" 200 -\n",
            "Error on request:\n",
            "Traceback (most recent call last):\n",
            "  File \"/usr/local/lib/python3.6/dist-packages/werkzeug/serving.py\", line 323, in run_wsgi\n",
            "    execute(self.server.app)\n",
            "  File \"/usr/local/lib/python3.6/dist-packages/werkzeug/serving.py\", line 314, in execute\n",
            "    for data in application_iter:\n",
            "  File \"/usr/local/lib/python3.6/dist-packages/werkzeug/wsgi.py\", line 506, in __next__\n",
            "    return self._next()\n",
            "  File \"/usr/local/lib/python3.6/dist-packages/werkzeug/wrappers/base_response.py\", line 45, in _iter_encoded\n",
            "    for item in iterable:\n",
            "  File \"<ipython-input-59-cfe47751fb02>\", line 48, in generateVideo\n",
            "    \n",
            "cv2.error: OpenCV(4.1.2) /io/opencv/modules/imgproc/src/resize.cpp:3720: error: (-215:Assertion failed) !ssize.empty() in function 'resize'\n",
            "127.0.0.1 - - [13/Aug/2020 13:30:28] \"\u001b[33mGET /favicon.ico HTTP/1.1\u001b[0m\" 404 -\n",
            "127.0.0.1 - - [13/Aug/2020 13:30:37] \"\u001b[37mGET /vaud_feed HTTP/1.1\u001b[0m\" 200 -\n",
            "127.0.0.1 - - [13/Aug/2020 13:40:01] \"\u001b[37mGET / HTTP/1.1\u001b[0m\" 200 -\n",
            "127.0.0.1 - - [13/Aug/2020 13:40:03] \"\u001b[37mGET /video_feed HTTP/1.1\u001b[0m\" 200 -\n",
            "127.0.0.1 - - [13/Aug/2020 13:40:03] \"\u001b[37mGET /vaud_feed HTTP/1.1\u001b[0m\" 200 -\n",
            "127.0.0.1 - - [13/Aug/2020 13:40:03] \"\u001b[37mGET /audio_feed HTTP/1.1\u001b[0m\" 200 -\n",
            "Error on request:\n",
            "Traceback (most recent call last):\n",
            "  File \"/usr/local/lib/python3.6/dist-packages/werkzeug/serving.py\", line 323, in run_wsgi\n",
            "    execute(self.server.app)\n",
            "  File \"/usr/local/lib/python3.6/dist-packages/werkzeug/serving.py\", line 314, in execute\n",
            "    for data in application_iter:\n",
            "  File \"/usr/local/lib/python3.6/dist-packages/werkzeug/wsgi.py\", line 506, in __next__\n",
            "    return self._next()\n",
            "  File \"/usr/local/lib/python3.6/dist-packages/werkzeug/wrappers/base_response.py\", line 45, in _iter_encoded\n",
            "    for item in iterable:\n",
            "  File \"<ipython-input-59-cfe47751fb02>\", line 48, in generateVideo\n",
            "    \n",
            "cv2.error: OpenCV(4.1.2) /io/opencv/modules/imgproc/src/resize.cpp:3720: error: (-215:Assertion failed) !ssize.empty() in function 'resize'\n",
            "127.0.0.1 - - [13/Aug/2020 13:40:05] \"\u001b[33mGET /favicon.ico HTTP/1.1\u001b[0m\" 404 -\n"
          ],
          "name": "stderr"
        }
      ]
    },
    {
      "cell_type": "code",
      "metadata": {
        "id": "avT_8-t6kpDF"
      },
      "source": [
        ""
      ],
      "execution_count": null,
      "outputs": []
    }
  ]
}